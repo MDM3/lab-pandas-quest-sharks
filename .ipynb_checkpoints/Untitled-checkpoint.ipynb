{
 "cells": [
  {
   "cell_type": "code",
   "execution_count": 1,
   "id": "f1d63184-3a5e-4575-8f5d-db981d615033",
   "metadata": {},
   "outputs": [],
   "source": [
    "import pandas as pd"
   ]
  },
  {
   "cell_type": "code",
   "execution_count": 45,
   "id": "38874927-1636-42f1-984b-b6232e7b0d06",
   "metadata": {},
   "outputs": [],
   "source": [
    "sharks_df = pd.read_excel('GSAF5.xls')\n"
   ]
  },
  {
   "cell_type": "code",
   "execution_count": 46,
   "id": "3bbcc6ce-5ffd-45f6-b086-867d37d55b5e",
   "metadata": {},
   "outputs": [
    {
     "data": {
      "text/plain": [
       "(6970, 23)"
      ]
     },
     "execution_count": 46,
     "metadata": {},
     "output_type": "execute_result"
    }
   ],
   "source": [
    "sharks_df.shape"
   ]
  },
  {
   "cell_type": "code",
   "execution_count": 51,
   "id": "97e75f22-1948-45c2-a0bc-b90587b9d00a",
   "metadata": {},
   "outputs": [],
   "source": [
    "sharks_df.columns = sharks_df.columns.str.lower().str.replace(' ','_')"
   ]
  },
  {
   "cell_type": "code",
   "execution_count": 53,
   "id": "4f5896f1-0f0a-498a-8fb2-1c402d5fc324",
   "metadata": {},
   "outputs": [],
   "source": [
    "# SE LIMPIA LOS NOMBRES DE LAS COLUMNAS\n",
    "sharks_df.rename(columns = {'species_': 'species'}, inplace = True)"
   ]
  },
  {
   "cell_type": "code",
   "execution_count": 55,
   "id": "be4b34e3-b449-4fe1-a8d8-de37d631b3b6",
   "metadata": {},
   "outputs": [
    {
     "data": {
      "text/plain": [
       "Index(['date', 'year', 'type', 'country', 'state', 'location', 'activity',\n",
       "       'name', 'sex', 'age', 'injury', 'unnamed:_11', 'time', 'species',\n",
       "       'source', 'pdf', 'href_formula', 'href', 'case_number', 'case_number.1',\n",
       "       'original_order', 'unnamed:_21', 'unnamed:_22'],\n",
       "      dtype='object')"
      ]
     },
     "execution_count": 55,
     "metadata": {},
     "output_type": "execute_result"
    }
   ],
   "source": [
    "sharks_df.columns"
   ]
  },
  {
   "cell_type": "code",
   "execution_count": 61,
   "id": "92e9a1d2-9824-4c23-857c-77e1dbab815a",
   "metadata": {},
   "outputs": [],
   "source": [
    "#ELIMINAMOS LAS COLUMNAS QUE NO NOS SIRVEN PARA EL ESTUDIO \n",
    "\n",
    "sharks_df.drop(['name', 'sex', 'age', 'unnamed:_11', 'source', 'pdf', 'href_formula', 'href', 'case_number', 'case_number.1',\n",
    "       'original_order', 'unnamed:_21', 'unnamed:_22'], axis=1, inplace =True)"
   ]
  },
  {
   "cell_type": "code",
   "execution_count": 63,
   "id": "56161188-596e-4a6d-abd3-c8a1d41da9e3",
   "metadata": {},
   "outputs": [
    {
     "name": "stdout",
     "output_type": "stream",
     "text": [
      "<class 'pandas.core.frame.DataFrame'>\n",
      "RangeIndex: 6970 entries, 0 to 6969\n",
      "Data columns (total 10 columns):\n",
      " #   Column    Non-Null Count  Dtype  \n",
      "---  ------    --------------  -----  \n",
      " 0   date      6970 non-null   object \n",
      " 1   year      6968 non-null   float64\n",
      " 2   type      6952 non-null   object \n",
      " 3   country   6920 non-null   object \n",
      " 4   state     6488 non-null   object \n",
      " 5   location  6405 non-null   object \n",
      " 6   activity  6384 non-null   object \n",
      " 7   injury    6935 non-null   object \n",
      " 8   time      3443 non-null   object \n",
      " 9   species   3838 non-null   object \n",
      "dtypes: float64(1), object(9)\n",
      "memory usage: 544.7+ KB\n"
     ]
    }
   ],
   "source": [
    "sharks_df.info()"
   ]
  },
  {
   "cell_type": "code",
   "execution_count": 65,
   "id": "8a4ad9a6-e064-44d6-b2c3-16555b2f009a",
   "metadata": {},
   "outputs": [
    {
     "data": {
      "text/plain": [
       "Index(['date', 'year', 'type', 'country', 'state', 'location', 'activity',\n",
       "       'injury', 'time', 'species'],\n",
       "      dtype='object')"
      ]
     },
     "execution_count": 65,
     "metadata": {},
     "output_type": "execute_result"
    }
   ],
   "source": [
    "sharks_df.columns"
   ]
  },
  {
   "cell_type": "code",
   "execution_count": 73,
   "id": "b3f85ab2-0aa2-455f-90d2-2a49927582f4",
   "metadata": {},
   "outputs": [
    {
     "name": "stdout",
     "output_type": "stream",
     "text": [
      "Value counts for column: date\n",
      "date\n",
      "1957           9\n",
      "1942           8\n",
      "1958           7\n",
      "1956           6\n",
      "No date        6\n",
      "              ..\n",
      "11-Aug-2000    1\n",
      "12-Aug-2000    1\n",
      "13-Aug-2000    1\n",
      "15-Aug-2000    1\n",
      "1845-1853      1\n",
      "Name: count, Length: 6021, dtype: int64\n",
      "Value counts for column: year\n",
      "year\n",
      "2015.0    143\n",
      "2017.0    139\n",
      "2016.0    131\n",
      "0.0       129\n",
      "2011.0    128\n",
      "         ... \n",
      "1785.0      1\n",
      "1784.0      1\n",
      "1783.0      1\n",
      "1780.0      1\n",
      "1822.0      1\n",
      "Name: count, Length: 261, dtype: int64\n",
      "Value counts for column: type\n",
      "type\n",
      "Unprovoked             5132\n",
      "Provoked                636\n",
      "Invalid                 552\n",
      "Watercraft              355\n",
      "Sea Disaster            242\n",
      "Questionable             22\n",
      "Boat                      7\n",
      " Provoked                 2\n",
      "?                         1\n",
      "Unconfirmed               1\n",
      "Unverified                1\n",
      "Under investigation       1\n",
      "Name: count, dtype: int64\n",
      "Value counts for column: country\n",
      "country\n",
      "USA                   2550\n",
      "AUSTRALIA             1481\n",
      "SOUTH AFRICA           597\n",
      "NEW ZEALAND            144\n",
      "BAHAMAS                136\n",
      "                      ... \n",
      "EGYPT / ISRAEL           1\n",
      "Jamaica                  1\n",
      "MEXICO                   1\n",
      "Seychelles               1\n",
      "CEYLON (SRI LANKA)       1\n",
      "Name: count, Length: 234, dtype: int64\n",
      "Value counts for column: state\n",
      "state\n",
      "Florida              1182\n",
      "New South Wales       521\n",
      "Queensland            347\n",
      "Hawaii                341\n",
      "California            324\n",
      "                     ... \n",
      "L'Etang-Salé            1\n",
      "Kowloon Peninsula       1\n",
      "Port Shelter            1\n",
      "Laucala Island          1\n",
      "Moala Island            1\n",
      "Name: count, Length: 914, dtype: int64\n",
      "Value counts for column: location\n",
      "location\n",
      "New Smyrna Beach, Volusia County         191\n",
      "Daytona Beach, Volusia County             31\n",
      "Ponce Inlet, Volusia County               28\n",
      "Myrtle Beach, Horry County                22\n",
      "Melbourne Beach, Brevard County           20\n",
      "                                        ... \n",
      "Avila Beach, San Luis Obispo County        1\n",
      "Nhulunbuy                                  1\n",
      "Bakers Bay                                 1\n",
      "Near New Smyrna Jetty, Volusia County      1\n",
      "Below the English fort, Trincomalee        1\n",
      "Name: count, Length: 4534, dtype: int64\n",
      "Value counts for column: activity\n",
      "activity\n",
      "Surfing                                                     1124\n",
      "Swimming                                                     984\n",
      "Fishing                                                      489\n",
      "Spearfishing                                                 384\n",
      "Wading                                                       176\n",
      "                                                            ... \n",
      " Diving for abalone (Hookah)                                   1\n",
      "Swimming underwater from crayfish cage to a fishing bait       1\n",
      "Ferry capsized                                                 1\n",
      "Attempting to drag hooked shark ashore by its tail             1\n",
      "Wreck of  large double sailing canoe                           1\n",
      "Name: count, Length: 1596, dtype: int64\n",
      "Value counts for column: injury\n",
      "injury\n",
      "FATAL                                                                   863\n",
      "Foot bitten                                                             100\n",
      "Survived                                                                 97\n",
      "No injury                                                                85\n",
      "Leg bitten                                                               81\n",
      "                                                                       ... \n",
      "2 lacerations on each side of Achilles tendon                             1\n",
      "PROVOKED INCIDENT Hooked shark pulled onboard bit his arm                 1\n",
      "FATAL          Hip & upper thigh bitten, femoral artery severed           1\n",
      "Left ankle lacerated                                                      1\n",
      "FATAL. \"Shark bit him in half, carrying away the lower extremities\"       1\n",
      "Name: count, Length: 4100, dtype: int64\n",
      "Value counts for column: time\n",
      "time\n",
      "Afternoon      215\n",
      "11h00          140\n",
      "Morning        135\n",
      "15h00          127\n",
      "16h00          123\n",
      "              ... \n",
      "05h45            1\n",
      "09h11            1\n",
      "13h51            1\n",
      "15h44            1\n",
      "19h00-20h00      1\n",
      "Name: count, Length: 423, dtype: int64\n",
      "Value counts for column: species\n",
      "species\n",
      "White shark                                                                                                                      194\n",
      "Shark involvement prior to death was not confirmed                                                                               105\n",
      "Invalid                                                                                                                          102\n",
      "Shark involvement not confirmed                                                                                                   92\n",
      "Tiger shark                                                                                                                       89\n",
      "                                                                                                                                ... \n",
      "\"black tipped\" shark                                                                                                               1\n",
      "2 sharks, 4.5 m & 3 m                                                                                                              1\n",
      "Longfin mako shark, 3.5 m [11.5'], 350-kg [772-lb]                                                                                 1\n",
      "4.9 m to 5.5 m [16' to 18'] white shark                                                                                            1\n",
      "Said to involve a grey nurse shark that leapt out of the water and  seized the boy but species identification is questionable      1\n",
      "Name: count, Length: 1693, dtype: int64\n"
     ]
    }
   ],
   "source": [
    "# ITERADOR PARA VER LOS VALUE COUNTS DEL DF\n",
    "for column in sharks_df.columns:\n",
    "    print(f\"Value counts for column: {column}\")\n",
    "    print(sharks_df[column].value_counts())"
   ]
  },
  {
   "cell_type": "code",
   "execution_count": 83,
   "id": "dcd27c03-d2a7-4e38-80c3-d30e1859cc1a",
   "metadata": {},
   "outputs": [
    {
     "data": {
      "text/plain": [
       "6021"
      ]
     },
     "execution_count": 83,
     "metadata": {},
     "output_type": "execute_result"
    }
   ],
   "source": [
    "sharks_df['date'].nunique()"
   ]
  },
  {
   "cell_type": "code",
   "execution_count": 85,
   "id": "f40c261e-1672-4c5c-8b34-37dade00ebf8",
   "metadata": {},
   "outputs": [
    {
     "data": {
      "text/plain": [
       "914"
      ]
     },
     "execution_count": 85,
     "metadata": {},
     "output_type": "execute_result"
    }
   ],
   "source": [
    "sharks_df['state'].nunique()"
   ]
  },
  {
   "cell_type": "code",
   "execution_count": null,
   "id": "4d75fca0-e97c-437a-82c6-9f1ce65f2fb2",
   "metadata": {},
   "outputs": [],
   "source": [
    "  "
   ]
  }
 ],
 "metadata": {
  "kernelspec": {
   "display_name": "Python 3 (ipykernel)",
   "language": "python",
   "name": "python3"
  },
  "language_info": {
   "codemirror_mode": {
    "name": "ipython",
    "version": 3
   },
   "file_extension": ".py",
   "mimetype": "text/x-python",
   "name": "python",
   "nbconvert_exporter": "python",
   "pygments_lexer": "ipython3",
   "version": "3.12.4"
  }
 },
 "nbformat": 4,
 "nbformat_minor": 5
}
